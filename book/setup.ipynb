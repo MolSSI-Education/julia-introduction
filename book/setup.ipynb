{
    "cells": [
        {
            "cell_type": "markdown",
            "id": "collective-theorem",
            "metadata": {},
            "source": [
                "# Set Up\n",
                "\n",
                "This page should give directions for setting up the software environment for the lessons. \n",
                "\n",
                "## Installing Julia\n",
                "Put Directions for installing Julia here.\n",
                "\n",
                "## Obtain lesson materials\n",
                "Give directions for obtaining any lesson materials here.\n",
                "These might be pre-filled notebooks or files to download.\n"
            ]
        }
    ],
    "metadata": {
        "kernelspec": {
            "display_name": "julia_jupyterbook_kernel-1.11",
            "language": "julia",
            "name": "julia_jupyterbook_kernel-1.11"
        },
        "language_info": {
            "file_extension": ".jl",
            "mimetype": "application/julia",
            "name": "julia",
            "version": "1.11.2"
        }
    },
    "nbformat": 4,
    "nbformat_minor": 5
}
