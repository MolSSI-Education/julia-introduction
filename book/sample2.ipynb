{
    "cells": [
        {
            "cell_type": "markdown",
            "metadata": {},
            "source": [
                "# Sample Notebook 2\n",
                "\n",
                "It might be more transferable to use colored divs for special sections.\n",
                "\n",
                "Blue for overview\n",
                "<div class=\"alert alert-block alert-info\"> \n",
                "<h2>Overview</h2>\n",
                "\n",
                "<strong>Questions:</strong>\n",
                "* How do I use colored divs in a notebook?\n",
                "\n",
                "<strong>Objectives:</strong>\n",
                "* Learn how to use colored divs in a notebook.\n",
                "\n",
                "</div>\n",
                "\n",
                "Green for information\n",
                "<div class=\"alert alert-block alert-success\">\n",
                "<h3>Information</h3>\n",
                "This is some useful information.\n",
                "\n",
                "```python\n",
                "print(\"Hello, World!\")\n",
                "```\n",
                "</div>\n",
                "\n",
                "<div class=\"alert alert-block alert-warning\">\n",
                "<h3>Exercise</h3>\n",
                "Orange for exercises.\n",
                "</div>\n",
                "\n"
            ]
        },
        {
            "cell_type": "code",
            "execution_count": null,
            "metadata": {},
            "outputs": [],
            "source": [
                "print(\"Hello, World!\")"
            ]
        },
        {
            "cell_type": "code",
            "execution_count": null,
            "metadata": {},
            "outputs": [],
            "source": [
                "\u03ba = 2\n",
                "L = 3\n",
                "c\u209a = 4\n",
                "\u03c1 = 5\n",
                "t = 1\n",
                "\n",
                "\u03b1 = \u03ba / (c\u209a * \u03c1)\n",
                "Fo = \u03b1 * t / (L^2)"
            ]
        },
        {
            "cell_type": "code",
            "execution_count": null,
            "metadata": {},
            "outputs": [],
            "source": []
        }
    ],
    "metadata": {
        "kernelspec": {
            "display_name": "julia_jupyterbook_kernel-1.11",
            "language": "julia",
            "name": "julia_jupyterbook_kernel-1.11"
        },
        "language_info": {
            "file_extension": ".jl",
            "mimetype": "application/julia",
            "name": "julia",
            "version": "1.11.2"
        }
    },
    "nbformat": 4,
    "nbformat_minor": 2
}