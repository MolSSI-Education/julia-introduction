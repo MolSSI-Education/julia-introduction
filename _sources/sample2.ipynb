{
 "cells": [
  {
   "cell_type": "markdown",
   "metadata": {},
   "source": [
    "# Sample Notebook 2\n",
    "\n",
    "It might be more transferable to use colored divs for special sections.\n",
    "\n",
    "Blue for overview\n",
    "<div class=\"alert alert-block alert-info\"> \n",
    "<h2>Overview</h2>\n",
    "\n",
    "<strong>Questions:</strong>\n",
    "* How do I use colored divs in a notebook?\n",
    "\n",
    "<strong>Objectives:</strong>\n",
    "* Learn how to use colored divs in a notebook.\n",
    "\n",
    "</div>\n",
    "\n",
    "Green for information\n",
    "<div class=\"alert alert-block alert-success\">\n",
    "<h3>Information</h3>\n",
    "This is some useful information.\n",
    "\n",
    "```python\n",
    "print(\"Hello, World!\")\n",
    "```\n",
    "</div>\n",
    "\n",
    "<div class=\"alert alert-block alert-warning\">\n",
    "<h3>Exercise</h3>\n",
    "Orange for exercises.\n",
    "</div>\n",
    "\n"
   ]
  },
  {
   "cell_type": "code",
   "execution_count": null,
   "metadata": {},
   "outputs": [],
   "source": [
    "print(\"Hello, World!\")"
   ]
  },
  {
   "cell_type": "code",
   "execution_count": null,
   "metadata": {},
   "outputs": [],
   "source": [
    "κ = 2\n",
    "L = 3\n",
    "cₚ = 4\n",
    "ρ = 5\n",
    "t = 1\n",
    "\n",
    "α = κ / (cₚ * ρ)\n",
    "Fo = α * t / (L^2)"
   ]
  },
  {
   "cell_type": "code",
   "execution_count": null,
   "metadata": {},
   "outputs": [],
   "source": []
  }
 ],
 "metadata": {
  "kernelspec": {
   "display_name": "Julia 1.11.1",
   "language": "julia",
   "name": "julia-1.11"
  },
  "language_info": {
   "file_extension": ".jl",
   "mimetype": "application/julia",
   "name": "julia",
   "version": "1.11.1"
  }
 },
 "nbformat": 4,
 "nbformat_minor": 2
}
