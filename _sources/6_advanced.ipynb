{
    "cells": [
        {
            "cell_type": "markdown",
            "metadata": {},
            "source": [
                "# Advanced Topics"
            ]
        },
        {
            "cell_type": "markdown",
            "metadata": {},
            "source": [
                "<div class=\"alert alert-block alert-info\"> \n",
                "<h2>Overview</h2>\n",
                "This notebook will cover basic multi-threading and programming Nvidia GPUs in Julia.\n",
                "\n",
                "Check out the [JuliaGPU](https://juliagpu.org/) orginization page for more on how to program GPUs in Julia as well as how to program GPUs from other vendors like AMD and Intel.\n",
                "\n",
                "\n",
                "<strong>Objectives:</strong>\n",
                "* How to parallelize for loops with `Threads.@threads`.\n",
                "* Demonstrate the high-level interface for programming GPUs in Julia.\n",
                "\n",
                "</div>\n"
            ]
        },
        {
            "cell_type": "code",
            "execution_count": 3,
            "metadata": {},
            "outputs": [],
            "source": [
                "using BenchmarkTools\n",
                "using OhMyThreads"
            ]
        },
        {
            "cell_type": "markdown",
            "metadata": {},
            "source": [
                "### Multi-Threading\n",
                "Julia's base [Threads](https://docs.julialang.org/en/v1/manual/multi-threading/) library provides the `Threads.@threads` macro to turn any for loop into a parallel for loop. To change the number of threads Julia has access to we can define the environment variable `JULIA_NUM_THREADS`. This must be done before starting the notebook (e.g. `export JULIA_NUM_THREADS=4`)."
            ]
        },
        {
            "cell_type": "code",
            "execution_count": null,
            "metadata": {},
            "outputs": [],
            "source": [
                "println(\"Julia has access to $(Threads.nthreads()) threads\")\n",
                "print(ENV[\"JULIA_NUM_THREADS\"])"
            ]
        },
        {
            "cell_type": "code",
            "execution_count": null,
            "metadata": {},
            "outputs": [],
            "source": [
                "function single_thread!(vals)\n",
                "    for i in eachindex(vals)\n",
                "        vals[i] = sqrt(vals[i])*sqrt(vals[i])\n",
                "    end\n",
                "    return vals\n",
                "end\n",
                "\n",
                "function all_threads!(vals)\n",
                "    Threads.@threads :static for i in eachindex(vals)\n",
                "        vals[i] = sqrt(vals[i])*sqrt(vals[i])\n",
                "    end\n",
                "    return vals\n",
                "end\n",
                "\n",
                "function broadcasted!(vals)\n",
                "    vals .= sqrt.(vals).*sqrt.(vals)\n",
                "    return vals\n",
                "end"
            ]
        },
        {
            "cell_type": "code",
            "execution_count": 7,
            "metadata": {},
            "outputs": [],
            "source": [
                "vals = abs.(rand(1000000));"
            ]
        },
        {
            "cell_type": "code",
            "execution_count": null,
            "metadata": {},
            "outputs": [],
            "source": [
                "@benchmark single_thread!($vals)"
            ]
        },
        {
            "cell_type": "code",
            "execution_count": null,
            "metadata": {},
            "outputs": [],
            "source": [
                "@benchmark broadcasted!($vals)"
            ]
        },
        {
            "cell_type": "code",
            "execution_count": null,
            "metadata": {},
            "outputs": [],
            "source": [
                "@benchmark all_threads!($vals)"
            ]
        },
        {
            "cell_type": "markdown",
            "metadata": {},
            "source": [
                "The Threads library does not let you set the number of tasks, to do that we can use the `OhMyThreads.jl` library. In `OhMyThreads` the `Threads.@threads` macro is replaced with the `@tasks` macro inside of which we can set certain properties like `ntasks` as well as the type of thread scheduling."
            ]
        },
        {
            "cell_type": "code",
            "execution_count": null,
            "metadata": {},
            "outputs": [],
            "source": [
                "function ohmythreads!(vals, n_threads = Threads.nthreads())\n",
                "    @tasks for i in eachindex(vals)\n",
                "        @set ntasks = n_threads\n",
                "        @set scheduler = :static\n",
                "        vals[i] = sqrt(vals[i])*sqrt(vals[i])\n",
                "    end\n",
                "    return vals\n",
                "end"
            ]
        },
        {
            "cell_type": "code",
            "execution_count": null,
            "metadata": {},
            "outputs": [],
            "source": [
                "@benchmark ohmythreads!(vals)"
            ]
        },
        {
            "cell_type": "markdown",
            "metadata": {},
            "source": [
                "### GPU Array Programming\n",
                "With the power of dynamic dispacth, we can perform many operations on the GPU just by changing the type of our data from `Array` to `CuArray` (or the analagous type for AMD, Intel, or Apple). The packge environment does not have access to a GPU so the test the cells below install the `CUDA.jl` package and try running the code yourself!"
            ]
        },
        {
            "cell_type": "markdown",
            "metadata": {},
            "source": [
                "```julia\n",
                "# This example is for CUDA but is the same principle for all the GPU libraries\n",
                "#using CUDA or AMDGPU or oneAPI or Metal or KernelAbstractions\n",
                "using CUDA\n",
                "\n",
                "# Moving data from CPU to GPU.\n",
                "A = rand(3,3)\n",
                "cu_B = CuArray{Float32}(A)\n",
                "\n",
                "# Can also pre-allocate storage on the GPU and copy data to it.\n",
                "gpu_storage = CUDA.zeros(Float32, 3, 3)\n",
                "gpu_array2 = copyto!(cu_B, A)\n",
                "```"
            ]
        },
        {
            "cell_type": "markdown",
            "metadata": {},
            "source": [
                "If we multiply `cu_B` by itself, this multiplcation will take place on the GPU automatically because the type of `cu_B` is a `CuArray`!\n",
                "\n",
                "```julia\n",
                "cu_C = cu_B * cu_B \n",
                "```"
            ]
        },
        {
            "cell_type": "markdown",
            "metadata": {},
            "source": [
                "There are many more high-level functions that \"just work\" on the GPU. For example, all unary operations like `+`,`-`,`*` have GPU implementations. There are also abstractions such as `reduce` and `mapreduce` which allow you to apply an operation or function across an array. Note that all high-level GPU operations should act on an entire array and not a single element at a time.\n",
                "\n",
                "```julia\n",
                "cu_C = CUDA.rand(5)\n",
                "sum_of_C = sum(cu_C)\n",
                "sum_of_C_also = reduce(+, cu_C)\n",
                "\n",
                "f = (x) -> x^2\n",
                "C_squared = map(f, cu_C)\n",
                "sum_of_C_squared = mapreduce(f, +, cu_C)\n",
                "```"
            ]
        }
    ],
    "metadata": {
        "kernelspec": {
            "display_name": "julia_kernel-1.11",
            "language": "julia",
            "name": "julia_kernel-1.11"
        },
        "language_info": {
            "file_extension": ".jl",
            "mimetype": "application/julia",
            "name": "julia",
            "version": "1.11"
        }
    },
    "nbformat": 4,
    "nbformat_minor": 2
}