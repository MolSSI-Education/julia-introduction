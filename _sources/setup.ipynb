{
 "cells": [
  {
   "cell_type": "markdown",
   "id": "collective-theorem",
   "metadata": {},
   "source": [
    "# Set Up\n",
    "\n",
    "This page should give directions for setting up the software environment for the lessons. \n",
    "\n",
    "## Installing Julia\n",
    "Put Directions for installing Julia here.\n",
    "\n",
    "## Obtain lesson materials\n",
    "Give directions for obtaining any lesson materials here.\n",
    "These might be pre-filled notebooks or files to download.\n"
   ]
  }
 ],
 "metadata": {
  "kernelspec": {
   "display_name": "Python 3",
   "language": "python",
   "name": "python3"
  },
  "language_info": {
   "codemirror_mode": {
    "name": "ipython",
    "version": 3
   },
   "file_extension": ".py",
   "mimetype": "text/x-python",
   "name": "python",
   "nbconvert_exporter": "python",
   "pygments_lexer": "ipython3",
   "version": "3.8.6"
  }
 },
 "nbformat": 4,
 "nbformat_minor": 5
}
